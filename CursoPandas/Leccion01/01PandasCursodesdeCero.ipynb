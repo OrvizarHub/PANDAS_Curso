{
 "cells": [
  {
   "cell_type": "markdown",
   "metadata": {},
   "source": [
    "<h1><center>CURSO DE PANDAS </center></h1>"
   ]
  },
  {
   "cell_type": "markdown",
   "metadata": {},
   "source": [
    "![title](Logo.png)"
   ]
  },
  {
   "cell_type": "markdown",
   "metadata": {},
   "source": [
    "####  Objetivos de aprendizaje :\n",
    "* Explicar qué bibliotecas se utilizan para este curso.\n",
    "* Usar las biblioteca Python / Pandas.\n",
    "* Aprender sobre el objeto Pandas Series.\n",
    "* Aprender sobre el objeto Pandas DataFrame.\n",
    "* Leer datos tabulares de un archivo en Python usando Pandas\n",
    "* Aprender sobre segmentación e indexación de datos.\n",
    "* Realizar operaciones matemáticas en datos numéricos.\n",
    "* Grafico de datos básicos con Matplotlib\n"
   ]
  },
  {
   "cell_type": "markdown",
   "metadata": {},
   "source": [
    "### La mejor forma de aprender es haciendolo\n",
    "* Es por esta razon que deben seguir el curso junto con el codigo en la descripcion\n"
   ]
  },
  {
   "cell_type": "markdown",
   "metadata": {},
   "source": [
    "###  Vamos a empezar "
   ]
  },
  {
   "cell_type": "markdown",
   "metadata": {},
   "source": [
    "** python \n",
    "\n",
    "** pandas \n",
    "\n",
    "** numpy \n",
    "\n",
    "** matplotlib\n",
    "\n",
    "** Ipython\n"
   ]
  },
  {
   "cell_type": "markdown",
   "metadata": {},
   "source": [
    "# Primeros pasos con Pandas\n",
    "\n",
    "* Que es Pandas? \n",
    "\n",
    "    Libreria construida en NumPy y que esta fuertemente potenciada con Cython para proveer un\n",
    "    \n",
    "    uso facil de las estructuras de datos o data structures y como una herramienta dentro del \n",
    "    Analisis de datos\n"
   ]
  },
  {
   "cell_type": "code",
   "execution_count": null,
   "metadata": {},
   "outputs": [],
   "source": [
    "import pandas as pd # donde sea que vean pd es pandas"
   ]
  },
  {
   "cell_type": "code",
   "execution_count": null,
   "metadata": {},
   "outputs": [],
   "source": [
    "from pandas import Series, DataFrame"
   ]
  },
  {
   "cell_type": "markdown",
   "metadata": {},
   "source": [
    "# Series :\n",
    "\n",
    "Es un objeto tipo array de una dimension capaz de contener cualquier tipo de datos.\n",
    "    \n",
    "    * Index"
   ]
  },
  {
   "cell_type": "code",
   "execution_count": null,
   "metadata": {},
   "outputs": [],
   "source": [
    "obj=pd.Series([1,2,3,\"a\"]) # mutables\n",
    "obj"
   ]
  },
  {
   "cell_type": "code",
   "execution_count": null,
   "metadata": {},
   "outputs": [],
   "source": [
    "obj2 = Series([1.0,1.0,2.0,3.0])\n",
    "obj2"
   ]
  },
  {
   "cell_type": "code",
   "execution_count": null,
   "metadata": {},
   "outputs": [],
   "source": [
    "# indice a la izquierda y valores a la derecha\n",
    "obj.values"
   ]
  },
  {
   "cell_type": "code",
   "execution_count": null,
   "metadata": {},
   "outputs": [],
   "source": [
    "# indice \n",
    "obj.index # similar a  range(4)"
   ]
  },
  {
   "cell_type": "code",
   "execution_count": null,
   "metadata": {},
   "outputs": [],
   "source": [
    "#series con indice\n",
    "obj2 = pd.Series([4, 7, -5, 3], index=['d', 'b', 'a', 'c'])\n",
    "obj2"
   ]
  },
  {
   "cell_type": "code",
   "execution_count": null,
   "metadata": {},
   "outputs": [],
   "source": [
    "# se aplican funciones muy similares \n",
    "# a las que se usan en NumPy\n",
    "obj2[obj2 > 0]\n",
    "\n"
   ]
  },
  {
   "cell_type": "code",
   "execution_count": null,
   "metadata": {},
   "outputs": [],
   "source": [
    "obj2 * 2"
   ]
  },
  {
   "cell_type": "code",
   "execution_count": null,
   "metadata": {},
   "outputs": [],
   "source": [
    "import numpy as np\n",
    "np.exp(obj2)"
   ]
  },
  {
   "cell_type": "code",
   "execution_count": null,
   "metadata": {},
   "outputs": [],
   "source": [
    "# muy similares a los diccionarios de python \n",
    "# con una longitud fija  y se puede usar de manera similar\n",
    "'b' in obj2\n"
   ]
  },
  {
   "cell_type": "code",
   "execution_count": null,
   "metadata": {},
   "outputs": [],
   "source": [
    "# de Diccionarios a Series\n",
    "data = {'Brazil': 212003366,'Colombia':50750920,'Argentina':45034295}\n",
    "data"
   ]
  },
  {
   "cell_type": "code",
   "execution_count": null,
   "metadata": {},
   "outputs": [],
   "source": [
    "obj3 = pd.Series(data)\n",
    "obj3"
   ]
  },
  {
   "cell_type": "code",
   "execution_count": null,
   "metadata": {},
   "outputs": [],
   "source": [
    "# pasando otros indices \n",
    "PaisesLatinos ={ 'Ecuador' , 'Colombia' ,'Peru'}\n",
    "obj4 = pd.Series(data, index = PaisesLatinos)\n",
    "obj4"
   ]
  },
  {
   "cell_type": "code",
   "execution_count": null,
   "metadata": {},
   "outputs": [],
   "source": [
    "# isnull , notnull como pandas\n",
    "pd.isnull(obj3)"
   ]
  },
  {
   "cell_type": "code",
   "execution_count": null,
   "metadata": {},
   "outputs": [],
   "source": [
    "obj4.isnull() # como metodo del objeto"
   ]
  },
  {
   "cell_type": "code",
   "execution_count": null,
   "metadata": {},
   "outputs": [],
   "source": [
    "obj3 + obj4 "
   ]
  },
  {
   "cell_type": "code",
   "execution_count": null,
   "metadata": {},
   "outputs": [],
   "source": [
    "obj4.name = 'poblacion'"
   ]
  },
  {
   "cell_type": "code",
   "execution_count": null,
   "metadata": {},
   "outputs": [],
   "source": [
    "obj4.index.name = 'Paises Latinos'"
   ]
  },
  {
   "cell_type": "code",
   "execution_count": null,
   "metadata": {},
   "outputs": [],
   "source": [
    "obj4"
   ]
  },
  {
   "cell_type": "markdown",
   "metadata": {},
   "source": [
    "# DataFrames\n",
    "\n",
    "Un DataFrame representa una tabla rectangular de datos y contiene \n",
    "\n",
    "una ordenada coleccion de columnas , de la cual cada una puede ser un valor diferente.\n",
    "\n",
    "* Tiene indice de fila y columna\n",
    "* puede ser pensado como un diccionario de Series\n",
    "* Los datos son ordenados como uno o mas bloques de dos dimensiones\n",
    "diferente de lo que es las lista y diccionarios que son guardados como colleciones de arrays de una dimension( la estructura interna de DF no la veremos).\n",
    "\n",
    "\n"
   ]
  },
  {
   "cell_type": "markdown",
   "metadata": {},
   "source": [
    "Hay mcuhas maneras de construir DataFrames pero de las mas comunes son hacerlos desde **diccionarios** de igual longitud o **arrays** Numpy"
   ]
  },
  {
   "cell_type": "code",
   "execution_count": null,
   "metadata": {},
   "outputs": [],
   "source": [
    "datos = {'Paises': ['Ecuador','Colombia','Chile','Peru','Paraguay','Bolivia','Brazil','Argentina',\n",
    "'Uruguay'],\n",
    "'Codigo': ['ECU','COL','CHL','PER','PRY','BOL','BRA','ARG','URY'],\n",
    "'GINI 2017': [44.7,49.7,46.6,43.3,48.8,44,53.3,41.2,39.5]}\n",
    "frame = pd.DataFrame(datos)"
   ]
  },
  {
   "cell_type": "code",
   "execution_count": null,
   "metadata": {},
   "outputs": [],
   "source": [
    "frame"
   ]
  },
  {
   "cell_type": "code",
   "execution_count": null,
   "metadata": {},
   "outputs": [],
   "source": [
    "frame.head() # ver solo los primeros 5 filas"
   ]
  },
  {
   "cell_type": "code",
   "execution_count": null,
   "metadata": {},
   "outputs": [],
   "source": [
    "#ordenar las columans \n",
    "pd.DataFrame(datos, columns=['Codigo', 'Paises', 'GINI 2017'])"
   ]
  },
  {
   "cell_type": "code",
   "execution_count": null,
   "metadata": {},
   "outputs": [],
   "source": [
    "frame2 = pd.DataFrame(datos, columns= [ 'Paises' ,'Codigo','GINI 2017', 'pob' ],\n",
    "                      index= ['uno','dos','tres','cuatro','cinco','seis','siete','ocho','nueve'])\n",
    "                      "
   ]
  },
  {
   "cell_type": "code",
   "execution_count": null,
   "metadata": {},
   "outputs": [],
   "source": [
    "frame2"
   ]
  },
  {
   "cell_type": "code",
   "execution_count": null,
   "metadata": {},
   "outputs": [],
   "source": [
    "frame2.columns"
   ]
  },
  {
   "cell_type": "code",
   "execution_count": null,
   "metadata": {},
   "outputs": [],
   "source": [
    "frame2['Paises'] # se obtiene la informacion como diccionarios"
   ]
  },
  {
   "cell_type": "code",
   "execution_count": null,
   "metadata": {},
   "outputs": [],
   "source": [
    "frame2.Codigo # como atributo "
   ]
  },
  {
   "cell_type": "code",
   "execution_count": null,
   "metadata": {},
   "outputs": [],
   "source": [
    "#LOCALIZACION POR ETIQUETADO\n",
    "frame2.loc['seis'] # recibir la informacion de la fila por loc y un atributo"
   ]
  },
  {
   "cell_type": "code",
   "execution_count": null,
   "metadata": {},
   "outputs": [],
   "source": [
    "#LOCALIZACION POR INDICE \n",
    "frame2.iloc[5]\n",
    "#frame2"
   ]
  },
  {
   "cell_type": "code",
   "execution_count": null,
   "metadata": {},
   "outputs": [],
   "source": [
    "# crear una nueva columna \n",
    "frame2['capitales'] = frame2.Paises =='Peru'\n",
    "frame2"
   ]
  },
  {
   "cell_type": "code",
   "execution_count": null,
   "metadata": {},
   "outputs": [],
   "source": [
    "#ELIMINAR UNA COLUMNA\n",
    "frame2=frame2.drop('capitales',1) # 0 filas y 1 col"
   ]
  },
  {
   "cell_type": "code",
   "execution_count": null,
   "metadata": {},
   "outputs": [],
   "source": [
    "frame2.columns"
   ]
  },
  {
   "cell_type": "code",
   "execution_count": null,
   "metadata": {},
   "outputs": [],
   "source": [
    "frame2"
   ]
  },
  {
   "cell_type": "code",
   "execution_count": null,
   "metadata": {},
   "outputs": [],
   "source": [
    "frame2.head()\n",
    "del frame2[\"pob\"]"
   ]
  },
  {
   "cell_type": "code",
   "execution_count": null,
   "metadata": {},
   "outputs": [],
   "source": [
    "frame2"
   ]
  },
  {
   "cell_type": "code",
   "execution_count": null,
   "metadata": {},
   "outputs": [],
   "source": []
  }
 ],
 "metadata": {
  "kernelspec": {
   "display_name": "Python 3",
   "language": "python",
   "name": "python3"
  },
  "language_info": {
   "codemirror_mode": {
    "name": "ipython",
    "version": 3
   },
   "file_extension": ".py",
   "mimetype": "text/x-python",
   "name": "python",
   "nbconvert_exporter": "python",
   "pygments_lexer": "ipython3",
   "version": "3.7.4"
  }
 },
 "nbformat": 4,
 "nbformat_minor": 2
}
